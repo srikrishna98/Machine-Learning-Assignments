{
 "cells": [
  {
   "cell_type": "code",
   "execution_count": 1,
   "metadata": {},
   "outputs": [],
   "source": [
    "import numpy as np\n",
    "import pandas as pd\n",
    "import matplotlib.pyplot as plt\n",
    "%matplotlib inline"
   ]
  },
  {
   "cell_type": "code",
   "execution_count": 17,
   "metadata": {},
   "outputs": [
    {
     "data": {
      "text/html": [
       "<div>\n",
       "<style scoped>\n",
       "    .dataframe tbody tr th:only-of-type {\n",
       "        vertical-align: middle;\n",
       "    }\n",
       "\n",
       "    .dataframe tbody tr th {\n",
       "        vertical-align: top;\n",
       "    }\n",
       "\n",
       "    .dataframe thead th {\n",
       "        text-align: right;\n",
       "    }\n",
       "</style>\n",
       "<table border=\"1\" class=\"dataframe\">\n",
       "  <thead>\n",
       "    <tr style=\"text-align: right;\">\n",
       "      <th></th>\n",
       "      <th>traveltime</th>\n",
       "      <th>studytime</th>\n",
       "      <th>failures</th>\n",
       "      <th>G1</th>\n",
       "    </tr>\n",
       "  </thead>\n",
       "  <tbody>\n",
       "    <tr>\n",
       "      <th>0</th>\n",
       "      <td>2</td>\n",
       "      <td>2</td>\n",
       "      <td>0</td>\n",
       "      <td>5</td>\n",
       "    </tr>\n",
       "    <tr>\n",
       "      <th>1</th>\n",
       "      <td>1</td>\n",
       "      <td>2</td>\n",
       "      <td>0</td>\n",
       "      <td>5</td>\n",
       "    </tr>\n",
       "    <tr>\n",
       "      <th>2</th>\n",
       "      <td>1</td>\n",
       "      <td>2</td>\n",
       "      <td>3</td>\n",
       "      <td>7</td>\n",
       "    </tr>\n",
       "    <tr>\n",
       "      <th>3</th>\n",
       "      <td>1</td>\n",
       "      <td>3</td>\n",
       "      <td>0</td>\n",
       "      <td>15</td>\n",
       "    </tr>\n",
       "    <tr>\n",
       "      <th>4</th>\n",
       "      <td>1</td>\n",
       "      <td>2</td>\n",
       "      <td>0</td>\n",
       "      <td>6</td>\n",
       "    </tr>\n",
       "  </tbody>\n",
       "</table>\n",
       "</div>"
      ],
      "text/plain": [
       "   traveltime  studytime  failures  G1\n",
       "0           2          2         0   5\n",
       "1           1          2         0   5\n",
       "2           1          2         3   7\n",
       "3           1          3         0  15\n",
       "4           1          2         0   6"
      ]
     },
     "execution_count": 17,
     "metadata": {},
     "output_type": "execute_result"
    }
   ],
   "source": [
    "import os\n",
    "path = os.getcwd() + '/datasets/student-mat.csv'\n",
    "raw_data = pd.read_csv(path)\n",
    "raw_data.head()"
   ]
  },
  {
   "cell_type": "code",
   "execution_count": 18,
   "metadata": {},
   "outputs": [
    {
     "data": {
      "text/html": [
       "<div>\n",
       "<style scoped>\n",
       "    .dataframe tbody tr th:only-of-type {\n",
       "        vertical-align: middle;\n",
       "    }\n",
       "\n",
       "    .dataframe tbody tr th {\n",
       "        vertical-align: top;\n",
       "    }\n",
       "\n",
       "    .dataframe thead th {\n",
       "        text-align: right;\n",
       "    }\n",
       "</style>\n",
       "<table border=\"1\" class=\"dataframe\">\n",
       "  <thead>\n",
       "    <tr style=\"text-align: right;\">\n",
       "      <th></th>\n",
       "      <th>traveltime</th>\n",
       "      <th>studytime</th>\n",
       "      <th>failures</th>\n",
       "      <th>G1</th>\n",
       "    </tr>\n",
       "  </thead>\n",
       "  <tbody>\n",
       "    <tr>\n",
       "      <th>count</th>\n",
       "      <td>395.000000</td>\n",
       "      <td>395.000000</td>\n",
       "      <td>395.000000</td>\n",
       "      <td>395.000000</td>\n",
       "    </tr>\n",
       "    <tr>\n",
       "      <th>mean</th>\n",
       "      <td>1.448101</td>\n",
       "      <td>2.035443</td>\n",
       "      <td>0.334177</td>\n",
       "      <td>10.908861</td>\n",
       "    </tr>\n",
       "    <tr>\n",
       "      <th>std</th>\n",
       "      <td>0.697505</td>\n",
       "      <td>0.839240</td>\n",
       "      <td>0.743651</td>\n",
       "      <td>3.319195</td>\n",
       "    </tr>\n",
       "    <tr>\n",
       "      <th>min</th>\n",
       "      <td>1.000000</td>\n",
       "      <td>1.000000</td>\n",
       "      <td>0.000000</td>\n",
       "      <td>3.000000</td>\n",
       "    </tr>\n",
       "    <tr>\n",
       "      <th>25%</th>\n",
       "      <td>1.000000</td>\n",
       "      <td>1.000000</td>\n",
       "      <td>0.000000</td>\n",
       "      <td>8.000000</td>\n",
       "    </tr>\n",
       "    <tr>\n",
       "      <th>50%</th>\n",
       "      <td>1.000000</td>\n",
       "      <td>2.000000</td>\n",
       "      <td>0.000000</td>\n",
       "      <td>11.000000</td>\n",
       "    </tr>\n",
       "    <tr>\n",
       "      <th>75%</th>\n",
       "      <td>2.000000</td>\n",
       "      <td>2.000000</td>\n",
       "      <td>0.000000</td>\n",
       "      <td>13.000000</td>\n",
       "    </tr>\n",
       "    <tr>\n",
       "      <th>max</th>\n",
       "      <td>4.000000</td>\n",
       "      <td>4.000000</td>\n",
       "      <td>3.000000</td>\n",
       "      <td>19.000000</td>\n",
       "    </tr>\n",
       "  </tbody>\n",
       "</table>\n",
       "</div>"
      ],
      "text/plain": [
       "       traveltime   studytime    failures          G1\n",
       "count  395.000000  395.000000  395.000000  395.000000\n",
       "mean     1.448101    2.035443    0.334177   10.908861\n",
       "std      0.697505    0.839240    0.743651    3.319195\n",
       "min      1.000000    1.000000    0.000000    3.000000\n",
       "25%      1.000000    1.000000    0.000000    8.000000\n",
       "50%      1.000000    2.000000    0.000000   11.000000\n",
       "75%      2.000000    2.000000    0.000000   13.000000\n",
       "max      4.000000    4.000000    3.000000   19.000000"
      ]
     },
     "execution_count": 18,
     "metadata": {},
     "output_type": "execute_result"
    }
   ],
   "source": [
    "raw_data.describe()"
   ]
  },
  {
   "cell_type": "code",
   "execution_count": 20,
   "metadata": {},
   "outputs": [
    {
     "data": {
      "text/html": [
       "<div>\n",
       "<style scoped>\n",
       "    .dataframe tbody tr th:only-of-type {\n",
       "        vertical-align: middle;\n",
       "    }\n",
       "\n",
       "    .dataframe tbody tr th {\n",
       "        vertical-align: top;\n",
       "    }\n",
       "\n",
       "    .dataframe thead th {\n",
       "        text-align: right;\n",
       "    }\n",
       "</style>\n",
       "<table border=\"1\" class=\"dataframe\">\n",
       "  <thead>\n",
       "    <tr style=\"text-align: right;\">\n",
       "      <th></th>\n",
       "      <th>traveltime</th>\n",
       "      <th>studytime</th>\n",
       "      <th>failures</th>\n",
       "      <th>G1</th>\n",
       "    </tr>\n",
       "  </thead>\n",
       "  <tbody>\n",
       "    <tr>\n",
       "      <th>0</th>\n",
       "      <td>0.183966</td>\n",
       "      <td>-0.011814</td>\n",
       "      <td>-0.111392</td>\n",
       "      <td>-0.369304</td>\n",
       "    </tr>\n",
       "    <tr>\n",
       "      <th>1</th>\n",
       "      <td>-0.149367</td>\n",
       "      <td>-0.011814</td>\n",
       "      <td>-0.111392</td>\n",
       "      <td>-0.369304</td>\n",
       "    </tr>\n",
       "    <tr>\n",
       "      <th>2</th>\n",
       "      <td>-0.149367</td>\n",
       "      <td>-0.011814</td>\n",
       "      <td>0.888608</td>\n",
       "      <td>-0.244304</td>\n",
       "    </tr>\n",
       "    <tr>\n",
       "      <th>3</th>\n",
       "      <td>-0.149367</td>\n",
       "      <td>0.321519</td>\n",
       "      <td>-0.111392</td>\n",
       "      <td>0.255696</td>\n",
       "    </tr>\n",
       "    <tr>\n",
       "      <th>4</th>\n",
       "      <td>-0.149367</td>\n",
       "      <td>-0.011814</td>\n",
       "      <td>-0.111392</td>\n",
       "      <td>-0.306804</td>\n",
       "    </tr>\n",
       "  </tbody>\n",
       "</table>\n",
       "</div>"
      ],
      "text/plain": [
       "   traveltime  studytime  failures        G1\n",
       "0    0.183966  -0.011814 -0.111392 -0.369304\n",
       "1   -0.149367  -0.011814 -0.111392 -0.369304\n",
       "2   -0.149367  -0.011814  0.888608 -0.244304\n",
       "3   -0.149367   0.321519 -0.111392  0.255696\n",
       "4   -0.149367  -0.011814 -0.111392 -0.306804"
      ]
     },
     "execution_count": 20,
     "metadata": {},
     "output_type": "execute_result"
    }
   ],
   "source": [
    "data=(raw_data-raw_data.mean())/(raw_data.max()-raw_data.min())\n",
    "data.head()"
   ]
  },
  {
   "cell_type": "code",
   "execution_count": 22,
   "metadata": {},
   "outputs": [
    {
     "data": {
      "text/plain": [
       "(395, 4)"
      ]
     },
     "execution_count": 22,
     "metadata": {},
     "output_type": "execute_result"
    }
   ],
   "source": [
    "data.shape"
   ]
  },
  {
   "cell_type": "code",
   "execution_count": 23,
   "metadata": {},
   "outputs": [
    {
     "name": "stdout",
     "output_type": "stream",
     "text": [
      "4\n"
     ]
    }
   ],
   "source": [
    "cols=data.shape[1]\n",
    "print(cols)"
   ]
  },
  {
   "cell_type": "code",
   "execution_count": 24,
   "metadata": {},
   "outputs": [
    {
     "data": {
      "text/html": [
       "<div>\n",
       "<style scoped>\n",
       "    .dataframe tbody tr th:only-of-type {\n",
       "        vertical-align: middle;\n",
       "    }\n",
       "\n",
       "    .dataframe tbody tr th {\n",
       "        vertical-align: top;\n",
       "    }\n",
       "\n",
       "    .dataframe thead th {\n",
       "        text-align: right;\n",
       "    }\n",
       "</style>\n",
       "<table border=\"1\" class=\"dataframe\">\n",
       "  <thead>\n",
       "    <tr style=\"text-align: right;\">\n",
       "      <th></th>\n",
       "      <th>ones</th>\n",
       "      <th>traveltime</th>\n",
       "      <th>studytime</th>\n",
       "      <th>failures</th>\n",
       "      <th>G1</th>\n",
       "    </tr>\n",
       "  </thead>\n",
       "  <tbody>\n",
       "    <tr>\n",
       "      <th>0</th>\n",
       "      <td>1</td>\n",
       "      <td>0.183966</td>\n",
       "      <td>-0.011814</td>\n",
       "      <td>-0.111392</td>\n",
       "      <td>-0.369304</td>\n",
       "    </tr>\n",
       "    <tr>\n",
       "      <th>1</th>\n",
       "      <td>1</td>\n",
       "      <td>-0.149367</td>\n",
       "      <td>-0.011814</td>\n",
       "      <td>-0.111392</td>\n",
       "      <td>-0.369304</td>\n",
       "    </tr>\n",
       "    <tr>\n",
       "      <th>2</th>\n",
       "      <td>1</td>\n",
       "      <td>-0.149367</td>\n",
       "      <td>-0.011814</td>\n",
       "      <td>0.888608</td>\n",
       "      <td>-0.244304</td>\n",
       "    </tr>\n",
       "    <tr>\n",
       "      <th>3</th>\n",
       "      <td>1</td>\n",
       "      <td>-0.149367</td>\n",
       "      <td>0.321519</td>\n",
       "      <td>-0.111392</td>\n",
       "      <td>0.255696</td>\n",
       "    </tr>\n",
       "    <tr>\n",
       "      <th>4</th>\n",
       "      <td>1</td>\n",
       "      <td>-0.149367</td>\n",
       "      <td>-0.011814</td>\n",
       "      <td>-0.111392</td>\n",
       "      <td>-0.306804</td>\n",
       "    </tr>\n",
       "  </tbody>\n",
       "</table>\n",
       "</div>"
      ],
      "text/plain": [
       "   ones  traveltime  studytime  failures        G1\n",
       "0     1    0.183966  -0.011814 -0.111392 -0.369304\n",
       "1     1   -0.149367  -0.011814 -0.111392 -0.369304\n",
       "2     1   -0.149367  -0.011814  0.888608 -0.244304\n",
       "3     1   -0.149367   0.321519 -0.111392  0.255696\n",
       "4     1   -0.149367  -0.011814 -0.111392 -0.306804"
      ]
     },
     "execution_count": 24,
     "metadata": {},
     "output_type": "execute_result"
    }
   ],
   "source": [
    "data.insert(0,'ones',1)\n",
    "data.head()"
   ]
  },
  {
   "cell_type": "code",
   "execution_count": 25,
   "metadata": {},
   "outputs": [
    {
     "name": "stdout",
     "output_type": "stream",
     "text": [
      "5\n"
     ]
    }
   ],
   "source": [
    "cols=data.shape[1]\n",
    "print(cols)"
   ]
  },
  {
   "cell_type": "code",
   "execution_count": 26,
   "metadata": {},
   "outputs": [],
   "source": [
    "x=data.iloc[:,0:cols-1]\n",
    "y=data.iloc[:,cols-1:cols]"
   ]
  },
  {
   "cell_type": "code",
   "execution_count": 29,
   "metadata": {},
   "outputs": [
    {
     "data": {
      "text/plain": [
       "((395, 4), (395, 1), (1, 4))"
      ]
     },
     "execution_count": 29,
     "metadata": {},
     "output_type": "execute_result"
    }
   ],
   "source": [
    "x=np.matrix(x)\n",
    "y=np.matrix(y)\n",
    "theta=np.matrix(np.array([0,0,0,0]))\n",
    "x.shape, y.shape, theta.shape"
   ]
  },
  {
   "cell_type": "code",
   "execution_count": 30,
   "metadata": {},
   "outputs": [],
   "source": [
    "def computeError(x,y,theta):\n",
    "    inner = np.power(((x*theta.T)-y),2)\n",
    "    return np.sum(inner)/(2*len(x))"
   ]
  },
  {
   "cell_type": "code",
   "execution_count": 31,
   "metadata": {},
   "outputs": [
    {
     "data": {
      "text/plain": [
       "0.02146320701810607"
      ]
     },
     "execution_count": 31,
     "metadata": {},
     "output_type": "execute_result"
    }
   ],
   "source": [
    "computeError(x,y,theta)"
   ]
  },
  {
   "cell_type": "code",
   "execution_count": 32,
   "metadata": {},
   "outputs": [],
   "source": [
    "Learn_rate = 1\n",
    "iters = 150"
   ]
  },
  {
   "cell_type": "code",
   "execution_count": 33,
   "metadata": {},
   "outputs": [],
   "source": [
    "def gradientDescent(x,y,theta,Learn_rate,iters):\n",
    "    temp = np.matrix(np.zeros(theta.shape))\n",
    "    parameters = int(theta.ravel().shape[1])\n",
    "    cost = np.zeros(iters)\n",
    "    for i in range(iters):\n",
    "        error = (x*theta.T)-y\n",
    "        for j in range(parameters):\n",
    "            term = np.multiply(error,x[:,j])\n",
    "            temp[0,j] = theta[0,j] - ((Learn_rate/len(x))*np.sum(term))\n",
    "        theta=temp\n",
    "        cost[i]=computeError(x,y,theta)\n",
    "    return theta,cost    "
   ]
  },
  {
   "cell_type": "code",
   "execution_count": 34,
   "metadata": {},
   "outputs": [
    {
     "name": "stdout",
     "output_type": "stream",
     "text": [
      "[[ 3.37282944e-17 -4.68473159e-02  7.23407436e-02 -2.78597677e-01]] [0.02104248 0.0206837  0.02037744 0.02011573 0.01989187 0.01970018\n",
      " 0.01953585 0.01939483 0.01927367 0.01916945 0.01907972 0.01900236\n",
      " 0.01893559 0.0188779  0.018828   0.01878478 0.01874731 0.01871478\n",
      " 0.01868652 0.01866193 0.01864052 0.01862185 0.01860556 0.01859133\n",
      " 0.01857888 0.01856799 0.01855844 0.01855007 0.01854272 0.01853627\n",
      " 0.01853059 0.0185256  0.0185212  0.01851732 0.0185139  0.01851088\n",
      " 0.01850822 0.01850586 0.01850378 0.01850194 0.0185003  0.01849886\n",
      " 0.01849758 0.01849644 0.01849543 0.01849454 0.01849375 0.01849304\n",
      " 0.01849241 0.01849186 0.01849136 0.01849092 0.01849053 0.01849018\n",
      " 0.01848987 0.0184896  0.01848935 0.01848913 0.01848894 0.01848876\n",
      " 0.01848861 0.01848847 0.01848835 0.01848824 0.01848814 0.01848805\n",
      " 0.01848797 0.0184879  0.01848784 0.01848779 0.01848774 0.01848769\n",
      " 0.01848765 0.01848762 0.01848759 0.01848756 0.01848753 0.01848751\n",
      " 0.01848749 0.01848747 0.01848746 0.01848744 0.01848743 0.01848742\n",
      " 0.01848741 0.0184874  0.01848739 0.01848738 0.01848738 0.01848737\n",
      " 0.01848737 0.01848736 0.01848736 0.01848735 0.01848735 0.01848735\n",
      " 0.01848735 0.01848734 0.01848734 0.01848734 0.01848734 0.01848734\n",
      " 0.01848733 0.01848733 0.01848733 0.01848733 0.01848733 0.01848733\n",
      " 0.01848733 0.01848733 0.01848733 0.01848733 0.01848733 0.01848733\n",
      " 0.01848733 0.01848733 0.01848733 0.01848733 0.01848733 0.01848733\n",
      " 0.01848733 0.01848732 0.01848732 0.01848732 0.01848732 0.01848732\n",
      " 0.01848732 0.01848732 0.01848732 0.01848732 0.01848732 0.01848732\n",
      " 0.01848732 0.01848732 0.01848732 0.01848732 0.01848732 0.01848732\n",
      " 0.01848732 0.01848732 0.01848732 0.01848732 0.01848732 0.01848732\n",
      " 0.01848732 0.01848732 0.01848732 0.01848732 0.01848732 0.01848732]\n"
     ]
    }
   ],
   "source": [
    "new_theta,cost=gradientDescent(x,y,theta,Learn_rate,iters)\n",
    "print(new_theta,cost)"
   ]
  },
  {
   "cell_type": "code",
   "execution_count": 35,
   "metadata": {},
   "outputs": [
    {
     "data": {
      "text/plain": [
       "0.018487323646479686"
      ]
     },
     "execution_count": 35,
     "metadata": {},
     "output_type": "execute_result"
    }
   ],
   "source": [
    "computeError(x,y,new_theta)"
   ]
  },
  {
   "cell_type": "code",
   "execution_count": 37,
   "metadata": {},
   "outputs": [],
   "source": [
    "grade = (new_theta[0,0]*x[0]) + (new_theta[0,1]*x[1]) + (new_theta[0,2]*x[2]) + (new_theta[0,3]*x[3])"
   ]
  },
  {
   "cell_type": "code",
   "execution_count": 39,
   "metadata": {},
   "outputs": [
    {
     "name": "stdout",
     "output_type": "stream",
     "text": [
      "Error % = 0.17504430230972678\n",
      "Accuracy % = 99.82495569769027\n"
     ]
    }
   ],
   "source": [
    "#Accuracy calculation\n",
    "import math\n",
    "erro_r = [np.power((b-a),2) for (a,b) in zip(grade,y)]\n",
    "error0 = np.sum(erro_r)\n",
    "error1 = math.sqrt(error0)\n",
    "error = (error1/len(y))*100\n",
    "\n",
    "print(\"Error % = {}\".format(error))\n",
    "accuracy = 100 - error\n",
    "print(\"Accuracy % = {}\".format(accuracy))"
   ]
  },
  {
   "cell_type": "code",
   "execution_count": 48,
   "metadata": {},
   "outputs": [],
   "source": [
    "def predict(new_theta):\n",
    "    traveltime,studytime,failures = input(\"Enter the travel time, study time and failures\").split()\n",
    "    traveltime = float(traveltime)\n",
    "    studytime = float(studytime)\n",
    "    failures = float(failures)\n",
    "    traveltime = (traveltime - raw_data.traveltime.mean())/(raw_data.traveltime.max() - raw_data.traveltime.min())\n",
    "    studytime = (studytime - raw_data.studytime.mean())/(raw_data.studytime.max() - raw_data.studytime.min())\n",
    "    failures = (failures - raw_data.failures.mean())/(raw_data.failures.max() - raw_data.failures.min())\n",
    "    \n",
    "    scaledgrade = (new_theta[0,0]) + (new_theta[0,1]*traveltime) + (new_theta[0,2]*studytime) + (new_theta[0,3]*failures)\n",
    "    \n",
    "    #Reverse mean normalisation\n",
    "    predictedgrade = (scaledgrade * (raw_data.G1.max()-raw_data.G1.min())) + raw_data.G1.mean()\n",
    "    return predictedgrade"
   ]
  },
  {
   "cell_type": "code",
   "execution_count": 49,
   "metadata": {},
   "outputs": [
    {
     "name": "stdout",
     "output_type": "stream",
     "text": [
      "Enter the travel time, study time and failures3 4 1\n",
      "Your predicted grade is 10.28975963789215\n"
     ]
    }
   ],
   "source": [
    "predictedgrade = predict(new_theta)\n",
    "print('Your predicted grade is '+ str(predictedgrade))"
   ]
  },
  {
   "cell_type": "code",
   "execution_count": null,
   "metadata": {},
   "outputs": [],
   "source": []
  }
 ],
 "metadata": {
  "kernelspec": {
   "display_name": "Python 3",
   "language": "python",
   "name": "python3"
  },
  "language_info": {
   "codemirror_mode": {
    "name": "ipython",
    "version": 3
   },
   "file_extension": ".py",
   "mimetype": "text/x-python",
   "name": "python",
   "nbconvert_exporter": "python",
   "pygments_lexer": "ipython3",
   "version": "3.7.0"
  }
 },
 "nbformat": 4,
 "nbformat_minor": 2
}
