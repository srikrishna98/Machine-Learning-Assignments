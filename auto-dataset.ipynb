{
 "cells": [
  {
   "cell_type": "code",
   "execution_count": 2,
   "metadata": {},
   "outputs": [],
   "source": [
    "import numpy as np\n",
    "import pandas as pd\n",
    "import matplotlib.pyplot as plt\n",
    "%matplotlib inline"
   ]
  },
  {
   "cell_type": "code",
   "execution_count": 3,
   "metadata": {},
   "outputs": [
    {
     "data": {
      "text/html": [
       "<div>\n",
       "<style scoped>\n",
       "    .dataframe tbody tr th:only-of-type {\n",
       "        vertical-align: middle;\n",
       "    }\n",
       "\n",
       "    .dataframe tbody tr th {\n",
       "        vertical-align: top;\n",
       "    }\n",
       "\n",
       "    .dataframe thead th {\n",
       "        text-align: right;\n",
       "    }\n",
       "</style>\n",
       "<table border=\"1\" class=\"dataframe\">\n",
       "  <thead>\n",
       "    <tr style=\"text-align: right;\">\n",
       "      <th></th>\n",
       "      <th>mpg</th>\n",
       "      <th>cylinders</th>\n",
       "      <th>displacement</th>\n",
       "    </tr>\n",
       "  </thead>\n",
       "  <tbody>\n",
       "    <tr>\n",
       "      <th>0</th>\n",
       "      <td>18.0</td>\n",
       "      <td>8</td>\n",
       "      <td>307.0</td>\n",
       "    </tr>\n",
       "    <tr>\n",
       "      <th>1</th>\n",
       "      <td>15.0</td>\n",
       "      <td>8</td>\n",
       "      <td>350.0</td>\n",
       "    </tr>\n",
       "    <tr>\n",
       "      <th>2</th>\n",
       "      <td>18.0</td>\n",
       "      <td>8</td>\n",
       "      <td>318.0</td>\n",
       "    </tr>\n",
       "    <tr>\n",
       "      <th>3</th>\n",
       "      <td>16.0</td>\n",
       "      <td>8</td>\n",
       "      <td>304.0</td>\n",
       "    </tr>\n",
       "    <tr>\n",
       "      <th>4</th>\n",
       "      <td>17.0</td>\n",
       "      <td>8</td>\n",
       "      <td>302.0</td>\n",
       "    </tr>\n",
       "  </tbody>\n",
       "</table>\n",
       "</div>"
      ],
      "text/plain": [
       "    mpg  cylinders  displacement\n",
       "0  18.0          8         307.0\n",
       "1  15.0          8         350.0\n",
       "2  18.0          8         318.0\n",
       "3  16.0          8         304.0\n",
       "4  17.0          8         302.0"
      ]
     },
     "execution_count": 3,
     "metadata": {},
     "output_type": "execute_result"
    }
   ],
   "source": [
    "import os\n",
    "path = os.getcwd() + '/datasets/auto-mpg.csv'\n",
    "raw_data = pd.read_csv(path)\n",
    "raw_data.head()"
   ]
  },
  {
   "cell_type": "code",
   "execution_count": 4,
   "metadata": {},
   "outputs": [
    {
     "data": {
      "text/html": [
       "<div>\n",
       "<style scoped>\n",
       "    .dataframe tbody tr th:only-of-type {\n",
       "        vertical-align: middle;\n",
       "    }\n",
       "\n",
       "    .dataframe tbody tr th {\n",
       "        vertical-align: top;\n",
       "    }\n",
       "\n",
       "    .dataframe thead th {\n",
       "        text-align: right;\n",
       "    }\n",
       "</style>\n",
       "<table border=\"1\" class=\"dataframe\">\n",
       "  <thead>\n",
       "    <tr style=\"text-align: right;\">\n",
       "      <th></th>\n",
       "      <th>mpg</th>\n",
       "      <th>cylinders</th>\n",
       "      <th>displacement</th>\n",
       "    </tr>\n",
       "  </thead>\n",
       "  <tbody>\n",
       "    <tr>\n",
       "      <th>count</th>\n",
       "      <td>398.000000</td>\n",
       "      <td>398.000000</td>\n",
       "      <td>398.000000</td>\n",
       "    </tr>\n",
       "    <tr>\n",
       "      <th>mean</th>\n",
       "      <td>23.514573</td>\n",
       "      <td>5.454774</td>\n",
       "      <td>193.425879</td>\n",
       "    </tr>\n",
       "    <tr>\n",
       "      <th>std</th>\n",
       "      <td>7.815984</td>\n",
       "      <td>1.701004</td>\n",
       "      <td>104.269838</td>\n",
       "    </tr>\n",
       "    <tr>\n",
       "      <th>min</th>\n",
       "      <td>9.000000</td>\n",
       "      <td>3.000000</td>\n",
       "      <td>68.000000</td>\n",
       "    </tr>\n",
       "    <tr>\n",
       "      <th>25%</th>\n",
       "      <td>17.500000</td>\n",
       "      <td>4.000000</td>\n",
       "      <td>104.250000</td>\n",
       "    </tr>\n",
       "    <tr>\n",
       "      <th>50%</th>\n",
       "      <td>23.000000</td>\n",
       "      <td>4.000000</td>\n",
       "      <td>148.500000</td>\n",
       "    </tr>\n",
       "    <tr>\n",
       "      <th>75%</th>\n",
       "      <td>29.000000</td>\n",
       "      <td>8.000000</td>\n",
       "      <td>262.000000</td>\n",
       "    </tr>\n",
       "    <tr>\n",
       "      <th>max</th>\n",
       "      <td>46.600000</td>\n",
       "      <td>8.000000</td>\n",
       "      <td>455.000000</td>\n",
       "    </tr>\n",
       "  </tbody>\n",
       "</table>\n",
       "</div>"
      ],
      "text/plain": [
       "              mpg   cylinders  displacement\n",
       "count  398.000000  398.000000    398.000000\n",
       "mean    23.514573    5.454774    193.425879\n",
       "std      7.815984    1.701004    104.269838\n",
       "min      9.000000    3.000000     68.000000\n",
       "25%     17.500000    4.000000    104.250000\n",
       "50%     23.000000    4.000000    148.500000\n",
       "75%     29.000000    8.000000    262.000000\n",
       "max     46.600000    8.000000    455.000000"
      ]
     },
     "execution_count": 4,
     "metadata": {},
     "output_type": "execute_result"
    }
   ],
   "source": [
    "raw_data.describe()"
   ]
  },
  {
   "cell_type": "code",
   "execution_count": 5,
   "metadata": {},
   "outputs": [
    {
     "data": {
      "text/html": [
       "<div>\n",
       "<style scoped>\n",
       "    .dataframe tbody tr th:only-of-type {\n",
       "        vertical-align: middle;\n",
       "    }\n",
       "\n",
       "    .dataframe tbody tr th {\n",
       "        vertical-align: top;\n",
       "    }\n",
       "\n",
       "    .dataframe thead th {\n",
       "        text-align: right;\n",
       "    }\n",
       "</style>\n",
       "<table border=\"1\" class=\"dataframe\">\n",
       "  <thead>\n",
       "    <tr style=\"text-align: right;\">\n",
       "      <th></th>\n",
       "      <th>mpg</th>\n",
       "      <th>cylinders</th>\n",
       "      <th>displacement</th>\n",
       "    </tr>\n",
       "  </thead>\n",
       "  <tbody>\n",
       "    <tr>\n",
       "      <th>0</th>\n",
       "      <td>-0.146664</td>\n",
       "      <td>0.509045</td>\n",
       "      <td>0.293473</td>\n",
       "    </tr>\n",
       "    <tr>\n",
       "      <th>1</th>\n",
       "      <td>-0.226451</td>\n",
       "      <td>0.509045</td>\n",
       "      <td>0.404584</td>\n",
       "    </tr>\n",
       "    <tr>\n",
       "      <th>2</th>\n",
       "      <td>-0.146664</td>\n",
       "      <td>0.509045</td>\n",
       "      <td>0.321897</td>\n",
       "    </tr>\n",
       "    <tr>\n",
       "      <th>3</th>\n",
       "      <td>-0.199856</td>\n",
       "      <td>0.509045</td>\n",
       "      <td>0.285721</td>\n",
       "    </tr>\n",
       "    <tr>\n",
       "      <th>4</th>\n",
       "      <td>-0.173260</td>\n",
       "      <td>0.509045</td>\n",
       "      <td>0.280553</td>\n",
       "    </tr>\n",
       "  </tbody>\n",
       "</table>\n",
       "</div>"
      ],
      "text/plain": [
       "        mpg  cylinders  displacement\n",
       "0 -0.146664   0.509045      0.293473\n",
       "1 -0.226451   0.509045      0.404584\n",
       "2 -0.146664   0.509045      0.321897\n",
       "3 -0.199856   0.509045      0.285721\n",
       "4 -0.173260   0.509045      0.280553"
      ]
     },
     "execution_count": 5,
     "metadata": {},
     "output_type": "execute_result"
    }
   ],
   "source": [
    "data=(raw_data-raw_data.mean())/(raw_data.max()-raw_data.min())\n",
    "data.head()"
   ]
  },
  {
   "cell_type": "code",
   "execution_count": 6,
   "metadata": {},
   "outputs": [
    {
     "data": {
      "text/plain": [
       "(398, 3)"
      ]
     },
     "execution_count": 6,
     "metadata": {},
     "output_type": "execute_result"
    }
   ],
   "source": [
    "data.shape"
   ]
  },
  {
   "cell_type": "code",
   "execution_count": 14,
   "metadata": {},
   "outputs": [
    {
     "name": "stdout",
     "output_type": "stream",
     "text": [
      "4\n"
     ]
    }
   ],
   "source": [
    "cols=data.shape[1]\n",
    "print(cols)"
   ]
  },
  {
   "cell_type": "code",
   "execution_count": 15,
   "metadata": {},
   "outputs": [],
   "source": [
    "x=data.iloc[:,0:cols-1]\n",
    "y=data.iloc[:,cols-1:cols]"
   ]
  },
  {
   "cell_type": "code",
   "execution_count": 16,
   "metadata": {},
   "outputs": [
    {
     "data": {
      "text/plain": [
       "((398, 3), (398, 1), (1, 3))"
      ]
     },
     "execution_count": 16,
     "metadata": {},
     "output_type": "execute_result"
    }
   ],
   "source": [
    "x=np.matrix(x)\n",
    "y=np.matrix(y)\n",
    "theta=np.matrix(np.array([0,0,0]))\n",
    "x.shape, y.shape, theta.shape"
   ]
  },
  {
   "cell_type": "code",
   "execution_count": 17,
   "metadata": {},
   "outputs": [],
   "source": [
    "def computeError(x,y,theta):\n",
    "    inner = np.power(((x*theta.T)-y),2)\n",
    "    return np.sum(inner)/(2*len(x))"
   ]
  },
  {
   "cell_type": "code",
   "execution_count": 18,
   "metadata": {},
   "outputs": [
    {
     "data": {
      "text/plain": [
       "0.036205363155760804"
      ]
     },
     "execution_count": 18,
     "metadata": {},
     "output_type": "execute_result"
    }
   ],
   "source": [
    "computeError(x,y,theta)"
   ]
  },
  {
   "cell_type": "code",
   "execution_count": 19,
   "metadata": {},
   "outputs": [],
   "source": [
    "Learn_rate = 1\n",
    "iters = 150"
   ]
  },
  {
   "cell_type": "code",
   "execution_count": 20,
   "metadata": {},
   "outputs": [],
   "source": [
    "def gradientDescent(x,y,theta,Learn_rate,iters):\n",
    "    temp = np.matrix(np.zeros(theta.shape))\n",
    "    parameters = int(theta.ravel().shape[1])\n",
    "    cost = np.zeros(iters)\n",
    "    for i in range(iters):\n",
    "        error = (x*theta.T)-y\n",
    "        for j in range(parameters):\n",
    "            term = np.multiply(error,x[:,j])\n",
    "            temp[0,j] = theta[0,j] - ((Learn_rate/len(x))*np.sum(term))\n",
    "        theta=temp\n",
    "        cost[i]=computeError(x,y,theta)\n",
    "    return theta,cost    "
   ]
  },
  {
   "cell_type": "code",
   "execution_count": 21,
   "metadata": {},
   "outputs": [
    {
     "name": "stdout",
     "output_type": "stream",
     "text": [
      "[[-5.74638048e-17 -2.30715158e-01  6.42817293e-01]] [0.02732418 0.02082892 0.01607847 0.01260397 0.01006258 0.00820357\n",
      " 0.00684358 0.00584853 0.00512037 0.0045874  0.00419717 0.00391135\n",
      " 0.00370189 0.00354828 0.00343552 0.00335266 0.00329166 0.00324667\n",
      " 0.00321339 0.00318868 0.00317026 0.00315644 0.003146   0.00313803\n",
      " 0.00313188 0.00312708 0.00312326 0.00312017 0.00311763 0.00311549\n",
      " 0.00311366 0.00311205 0.00311062 0.00310933 0.00310814 0.00310703\n",
      " 0.00310599 0.00310501 0.00310407 0.00310317 0.00310231 0.00310148\n",
      " 0.00310068 0.00309991 0.00309915 0.00309843 0.00309772 0.00309703\n",
      " 0.00309636 0.00309572 0.00309509 0.00309447 0.00309388 0.0030933\n",
      " 0.00309273 0.00309219 0.00309165 0.00309113 0.00309063 0.00309014\n",
      " 0.00308966 0.0030892  0.00308874 0.00308831 0.00308788 0.00308746\n",
      " 0.00308706 0.00308666 0.00308628 0.00308591 0.00308555 0.00308519\n",
      " 0.00308485 0.00308452 0.00308419 0.00308388 0.00308357 0.00308327\n",
      " 0.00308298 0.0030827  0.00308242 0.00308216 0.0030819  0.00308164\n",
      " 0.0030814  0.00308116 0.00308092 0.0030807  0.00308048 0.00308026\n",
      " 0.00308005 0.00307985 0.00307965 0.00307946 0.00307928 0.00307909\n",
      " 0.00307892 0.00307874 0.00307858 0.00307841 0.00307826 0.0030781\n",
      " 0.00307795 0.00307781 0.00307766 0.00307753 0.00307739 0.00307726\n",
      " 0.00307714 0.00307701 0.00307689 0.00307677 0.00307666 0.00307655\n",
      " 0.00307644 0.00307634 0.00307624 0.00307614 0.00307604 0.00307595\n",
      " 0.00307586 0.00307577 0.00307568 0.0030756  0.00307551 0.00307544\n",
      " 0.00307536 0.00307528 0.00307521 0.00307514 0.00307507 0.003075\n",
      " 0.00307494 0.00307487 0.00307481 0.00307475 0.00307469 0.00307464\n",
      " 0.00307458 0.00307453 0.00307447 0.00307442 0.00307437 0.00307432\n",
      " 0.00307428 0.00307423 0.00307419 0.00307414 0.0030741  0.00307406]\n"
     ]
    }
   ],
   "source": [
    "new_theta,cost=gradientDescent(x,y,theta,Learn_rate,iters)\n",
    "print(new_theta,cost)"
   ]
  },
  {
   "cell_type": "code",
   "execution_count": 22,
   "metadata": {},
   "outputs": [
    {
     "data": {
      "text/plain": [
       "0.0030740601953068367"
      ]
     },
     "execution_count": 22,
     "metadata": {},
     "output_type": "execute_result"
    }
   ],
   "source": [
    "computeError(x,y,new_theta)"
   ]
  },
  {
   "cell_type": "code",
   "execution_count": 23,
   "metadata": {},
   "outputs": [],
   "source": [
    "displacement = (new_theta[0,0]*x[0]) + (new_theta[0,1]*x[1]) + (new_theta[0,2]*x[2])"
   ]
  },
  {
   "cell_type": "code",
   "execution_count": 25,
   "metadata": {},
   "outputs": [
    {
     "name": "stdout",
     "output_type": "stream",
     "text": [
      "Error % = 0.0918518412284505\n",
      "Accuracy % = 99.90814815877155\n"
     ]
    }
   ],
   "source": [
    "#Accuracy calculation\n",
    "import math\n",
    "erro_r = [np.power((b-a),2) for (a,b) in zip(displacement,y)]\n",
    "error0 = np.sum(erro_r)\n",
    "error1 = math.sqrt(error0)\n",
    "error = (error1/len(y))*100\n",
    "\n",
    "print(\"Error % = {}\".format(error))\n",
    "accuracy = 100 - error\n",
    "print(\"Accuracy % = {}\".format(accuracy))"
   ]
  },
  {
   "cell_type": "code",
   "execution_count": 26,
   "metadata": {},
   "outputs": [],
   "source": [
    "def predict(new_theta):\n",
    "    mpg,cylinders = input(\"Enter the mpg and number of cylinders\").split()\n",
    "    mpg = float(mpg)\n",
    "    cylinders = float(cylinders)\n",
    "    mpg = (mpg - raw_data.mpg.mean())/(raw_data.mpg.max() - raw_data.mpg.min())\n",
    "    cylinders = (cylinders - raw_data.cylinders.mean())/(raw_data.cylinders.max() - raw_data.cylinders.min())\n",
    "    \n",
    "    displacement = (new_theta[0,0]) + (new_theta[0,1]*mpg) + (new_theta[0,2]*cylinders)\n",
    "    \n",
    "    #Reverse mean normalisation\n",
    "    predicted_displacement = (displacement * (raw_data.displacement.max()-raw_data.displacement.min())) + raw_data.displacement.mean()\n",
    "    return predicted_displacement"
   ]
  },
  {
   "cell_type": "code",
   "execution_count": 28,
   "metadata": {},
   "outputs": [
    {
     "name": "stdout",
     "output_type": "stream",
     "text": [
      "Enter the mpg and number of cylinders19 7\n",
      "The predicted displacement is 281.027672226757\n"
     ]
    }
   ],
   "source": [
    "predicted_displacement = predict(new_theta)\n",
    "print('The predicted displacement is '+ str(predicted_displacement))"
   ]
  },
  {
   "cell_type": "code",
   "execution_count": null,
   "metadata": {},
   "outputs": [],
   "source": []
  }
 ],
 "metadata": {
  "kernelspec": {
   "display_name": "Python 3",
   "language": "python",
   "name": "python3"
  },
  "language_info": {
   "codemirror_mode": {
    "name": "ipython",
    "version": 3
   },
   "file_extension": ".py",
   "mimetype": "text/x-python",
   "name": "python",
   "nbconvert_exporter": "python",
   "pygments_lexer": "ipython3",
   "version": "3.7.0"
  }
 },
 "nbformat": 4,
 "nbformat_minor": 2
}
